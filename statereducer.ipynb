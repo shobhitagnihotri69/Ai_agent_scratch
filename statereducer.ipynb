{
 "cells": [
  {
   "cell_type": "code",
   "execution_count": 1,
   "metadata": {},
   "outputs": [
    {
     "data": {
      "image/png": "[encoded data removed]",
      "text/plain": [
       "<IPython.core.display.Image object>"
      ]
     },
     "metadata": {},
     "output_type": "display_data"
    }
   ],
   "source": [
    "from typing_extensions import TypedDict\n",
    "from IPython.display import Image, display\n",
    "from langgraph.graph import StateGraph, START, END\n",
    "\n",
    "class State(TypedDict):\n",
    "    foo: int\n",
    "\n",
    "def node_1(state):\n",
    "    print(\"---Node 1---\")\n",
    "    return {\"foo\": state['foo'] + 1}\n",
    "\n",
    "# Build graph\n",
    "builder = StateGraph(State)\n",
    "builder.add_node(\"node_1\", node_1)\n",
    "\n",
    "# Logic\n",
    "builder.add_edge(START, \"node_1\")\n",
    "builder.add_edge(\"node_1\", END)\n",
    "\n",
    "# Add\n",
    "graph = builder.compile()\n",
    "\n",
    "# View\n",
    "display(Image(graph.get_graph().draw_mermaid_png()))"
   ]
  },
  {
   "cell_type": "code",
   "execution_count": 3,
   "metadata": {},
   "outputs": [
    {
     "name": "stdout",
     "output_type": "stream",
     "text": [
      "---Node 1---\n"
     ]
    },
    {
     "data": {
      "text/plain": [
       "{'foo': 2}"
      ]
     },
     "execution_count": 3,
     "metadata": {},
     "output_type": "execute_result"
    }
   ],
   "source": [
    "graph.invoke({\"foo\":1})"
   ]
  },
  {
   "cell_type": "code",
   "execution_count": 4,
   "metadata": {},
   "outputs": [],
   "source": [
    "class Ovearall_state(TypedDict):\n",
    "    foo : int\n"
   ]
  },
  {
   "cell_type": "code",
   "execution_count": 5,
   "metadata": {},
   "outputs": [],
   "source": [
    "class Private_state(TypedDict):\n",
    "    baz : int"
   ]
  },
  {
   "cell_type": "code",
   "execution_count": 9,
   "metadata": {},
   "outputs": [],
   "source": [
    "def node_1(state : Ovearall_state) :\n",
    "    print('--node-1--')\n",
    "    return{ 'baz' : state['foo'] +1}\n",
    "def node_2(state : Private_state ):\n",
    "    print('--node-2--')\n",
    "    return { 'foo' : state['baz'] + 1 }"
   ]
  },
  {
   "cell_type": "code",
   "execution_count": 10,
   "metadata": {},
   "outputs": [
    {
     "data": {
      "image/png": "[encoded data removed]",
      "text/plain": [
       "<IPython.core.display.Image object>"
      ]
     },
     "metadata": {},
     "output_type": "display_data"
    },
    {
     "name": "stdout",
     "output_type": "stream",
     "text": [
      "--node-1--\n",
      "--node-2--\n"
     ]
    },
    {
     "data": {
      "text/plain": [
       "{'foo': 3}"
      ]
     },
     "execution_count": 10,
     "metadata": {},
     "output_type": "execute_result"
    }
   ],
   "source": [
    "builder = StateGraph(Ovearall_state)\n",
    "builder.add_node('node_1', node_1)\n",
    "builder.add_node('node_2', node_2)\n",
    "builder.add_edge(START, 'node_1')\n",
    "builder.add_edge('node_1', 'node_2')\n",
    "builder.add_edge('node_2', END)\n",
    "graph = builder.compile()\n",
    "\n",
    "display(Image(graph.get_graph().draw_mermaid_png()))\n",
    "\n",
    "graph.invoke({'foo':1})\n"
   ]
  },
  {
   "cell_type": "code",
   "execution_count": 11,
   "metadata": {},
   "outputs": [],
   "source": [
    "from langchain.chat_models import ChatOllama\n",
    "from langchain_core.messages import AIMessage ,HumanMessage\n"
   ]
  },
  {
   "cell_type": "code",
   "execution_count": 19,
   "metadata": {},
   "outputs": [],
   "source": [
    "message = [AIMessage(content=\"You said you were researching on ocean mammals\")]\n",
    "message.append(HumanMessage(content= 'Yes you are right '))"
   ]
  },
  {
   "cell_type": "code",
   "execution_count": 23,
   "metadata": {},
   "outputs": [
    {
     "data": {
      "text/plain": [
       "AIMessage(content=\"\\nDelhi is the capital city of India and is located in the northern part of the country. It is situated on the banks of the Yamuna River and is home to a population of over 29 million people, according to the 2011 census. Delhi is known for its rich history, cultural heritage, and vibrant street life. The city is divided into two parts: Old Delhi and New Delhi.\\n\\nOld Delhi, also known as Old City, is the original walled city of Delhi and is home to many historical sites, including the Red Fort, Jama Masjid, and Chandni Chowk. New Delhi, on the other hand, is a more modern part of the city that was built by the British during their rule in India. It is home to many government buildings, embassies, and diplomatic missions.\\n\\nDelhi is also known for its cuisine, which reflects the city's diverse cultural heritage. Some popular dishes from Delhi include street food such as chaat, kebabs, and gol gappe, as well as more formal restaurant dishes like tandoori chicken, butter chicken, and naan bread.\\n\\nIn terms of education, Delhi is home to many prestigious universities and institutions, including the University of Delhi, Jawaharlal Nehru University, and the Indian Institute of Technology. The city also has a well-developed transportation system, with buses, trains, and metro lines connecting different parts of the city.\\n\\nOverall, Delhi is a vibrant and diverse city that offers a unique blend of history, culture, and modernity.\", additional_kwargs={}, response_metadata={'model': 'llama2', 'created_at': '2024-12-03T16:54:23.254458Z', 'message': {'role': 'assistant', 'content': ''}, 'done_reason': 'stop', 'done': True, 'total_duration': 100863167167, 'load_duration': 13695988584, 'prompt_eval_count': 24, 'prompt_eval_duration': 4662797000, 'eval_count': 367, 'eval_duration': 82335073000}, id='run-8bb77e34-e579-4ada-820d-6f695661a848-0')"
      ]
     },
     "execution_count": 23,
     "metadata": {},
     "output_type": "execute_result"
    }
   ],
   "source": [
    "from langchain.chat_models import ChatOllama\n",
    "llm = ChatOllama()\n",
    "llm.invoke('Where is delhi')"
   ]
  },
  {
   "cell_type": "code",
   "execution_count": 24,
   "metadata": {},
   "outputs": [],
   "source": [
    "from IPython.display import Image\n",
    "from langgraph.graph import MessageGraph , MessagesState ,START ,END ,StateGraph\n",
    "async def cht_node( state: MessagesState):\n",
    "    return {'message': llm.ainvoke(state['messages'])}"
   ]
  },
  {
   "cell_type": "code",
   "execution_count": 25,
   "metadata": {},
   "outputs": [],
   "source": [
    "#Building graph \n",
    "builder = StateGraph(MessagesState)\n",
    "builder.add_node('cht_node', cht_node)\n",
    "builder.add_edge(START, 'cht_node')\n",
    "builder.add_edge('cht_node', END)\n",
    "graph = builder.compile()"
   ]
  },
  {
   "cell_type": "code",
   "execution_count": 26,
   "metadata": {},
   "outputs": [
    {
     "data": {
      "image/png": "[encoded data removed]",
      "text/plain": [
       "<IPython.core.display.Image object>"
      ]
     },
     "metadata": {},
     "output_type": "display_data"
    }
   ],
   "source": [
    "display(Image(graph.get_graph().draw_mermaid_png()))"
   ]
  },
  {
   "cell_type": "code",
   "execution_count": null,
   "metadata": {},
   "outputs": [],
   "source": []
  }
 ],
 "metadata": {
  "kernelspec": {
   "display_name": "Python 3",
   "language": "python",
   "name": "python3"
  },
  "language_info": {
   "codemirror_mode": {
    "name": "ipython",
    "version": 3
   },
   "file_extension": ".py",
   "mimetype": "text/x-python",
   "name": "python",
   "nbconvert_exporter": "python",
   "pygments_lexer": "ipython3",
   "version": "3.12.1"
  }
 },
 "nbformat": 4,
 "nbformat_minor": 2
}
